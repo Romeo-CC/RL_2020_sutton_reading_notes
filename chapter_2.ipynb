{
 "cells": [
  {
   "cell_type": "markdown",
   "metadata": {},
   "source": [
    "## Chapter 2 Multi-armed Bandits"
   ]
  },
  {
   "cell_type": "markdown",
   "metadata": {},
   "source": [
    "The most important feature distinguishing reinforcement learning from other types of learning is that it uses training information that evaluates the actions taken rather than instructsby giving correct actions."
   ]
  },
  {
   "cell_type": "markdown",
   "metadata": {
    "vscode": {
     "languageId": "plaintext"
    }
   },
   "source": [
    "+ Purely evaluative feedback indicates how good the action taken was, but not whether it was the best or the worst actionpossible. \n",
    "\n",
    "+ Purely instructive feedback, on the other hand, indicates the correct action totake, independently of the action actually taken."
   ]
  },
  {
   "cell_type": "markdown",
   "metadata": {},
   "source": [
    "+ Evaluative feedback depends entirely on the action taken, whereas instructive feedback is independent of the action taken."
   ]
  },
  {
   "cell_type": "markdown",
   "metadata": {},
   "source": [
    "## how to compute Q(a)\n",
    "\n",
    "The action-value function Q(a) represents the expected cumulative reward when choosing action a in a given state and following a policy thereafter.\n",
    "\n",
    "1. In Tabular Methods (e.g., Q-Learning):\n",
    "\n",
    "If the state and action spaces are small, you can maintain a Q-table, where each entry Q(s, a) is updated iteratively based on experience.\n",
    "\n",
    "Q-Learning Update Rule:\n",
    "$$\n",
    "Q(s, a) \\leftarrow Q(s, a) + \\alpha \\left[ r + \\gamma \\max_{a{\\prime}} Q(s{\\prime}, a{\\prime}) - Q(s, a) \\right]\n",
    "$$\n",
    "\n",
    "$s$, a: Current state and action.\n",
    "\n",
    "$r$: Immediate reward.\n",
    "\n",
    "$s{\\prime}$: Next state.\n",
    "\n",
    "$a{\\prime}$: Next action.\n",
    "\n",
    "$\\alpha$: Learning rate (how much to update).\n",
    "\n",
    "$\\gamma$: Discount factor (how much future rewards matter).\n"
   ]
  },
  {
   "cell_type": "code",
   "execution_count": 1,
   "metadata": {},
   "outputs": [
    {
     "name": "stdout",
     "output_type": "stream",
     "text": [
      "[[0. 0.]\n",
      " [0. 0.]\n",
      " [0. 1.]\n",
      " [0. 0.]\n",
      " [0. 0.]]\n"
     ]
    }
   ],
   "source": [
    "import numpy as np\n",
    "\n",
    "# Initialize Q-table with zeros\n",
    "Q = np.zeros((5, 2))  # 5 states, 2 actions\n",
    "\n",
    "# Sample experience (s, a, r, s')\n",
    "state = 2\n",
    "action = 1\n",
    "reward = 10\n",
    "next_state = 3\n",
    "\n",
    "# Hyperparameters\n",
    "alpha = 0.1  # learning rate\n",
    "gamma = 0.9  # discount factor\n",
    "\n",
    "# Q-Learning update\n",
    "Q[state, action] += alpha * (reward + gamma * np.max(Q[next_state, :]) - Q[state, action])\n",
    "\n",
    "print(Q)"
   ]
  },
  {
   "cell_type": "markdown",
   "metadata": {},
   "source": [
    "2. In Deep Q-Network (DQN):\n",
    "\n",
    "When the state space is large or continuous (e.g., images from Atari games), a neural network is used to approximate the Q-function.\n",
    "$$\n",
    "Q(s, a; \\theta) \\approx \\text{Neural Network}\n",
    "$$\n",
    "\n",
    "Input: State s.\n",
    "Output: Q-values for all possible actions.\n",
    "\n",
    "⸻\n",
    "\n",
    "DQN Loss Function:\n",
    "$$\n",
    "L(\\theta) = \\left( y_{\\text{target}} - Q(s, a; \\theta) \\right)^2\n",
    "$$\n",
    "where the target is:\n",
    "$$\n",
    "y_{\\text{target}} = r + \\gamma \\max_{a{\\prime}} Q(s{\\prime}, a{\\prime}; \\theta^{-})\n",
    "$$\n",
    "\n",
    "$\\theta^{-}$ is the target network, a stable copy of the current Q-network.\n",
    "\n",
    "⸻\n",
    "\n",
    "3. Exploration Strategy:\n",
    "\n",
    "To estimate Q(a) accurately, the agent needs to explore the environment. This is where strategies like ε-greedy come in, which balances exploration (trying new actions) and exploitation (choosing the best action so far)."
   ]
  },
  {
   "cell_type": "markdown",
   "metadata": {},
   "source": [
    "If you maintain estimates of the action values, then at any time step there is at leastone action whose estimated value is greatest.\n",
    "\n",
    "It refers to the action-value function Q(a), which estimates the expected reward for each action a.\n"
   ]
  },
  {
   "cell_type": "markdown",
   "metadata": {},
   "source": [
    "\t1.\tAction-Value Estimation:\n",
    "\t•\tAs your RL agent interacts with the environment, it updates the value estimates for each action based on the rewards it receives.\n",
    "\t•\tFor example, in a simple multi-armed bandit problem (like slot machines), you estimate the average reward for each machine based on past trials.\n",
    "\t2.\tAt Every Time Step:\n",
    "\t•\tAt any point in time, there will always be one or more actions with the highest estimated value.\n",
    "\t•\tFor instance, if your estimates are Q(a_1) = 5, Q(a_2) = 8, and Q(a_3) = 3, the action a_2 is currently the best because it has the highest estimated value.\n",
    "\t3.\tHandling Ties:\n",
    "\t•\tIf multiple actions have the same highest value, you can break ties randomly or apply a small perturbation to distinguish them.\n",
    "\t4.\tWhy Is This Important?\n",
    "\t•\tIn greedy policies, you select the action with the highest estimated value (exploitation).\n",
    "\t•\tIn ε-greedy policies, you sometimes explore (choose random actions) to avoid getting stuck in local optima."
   ]
  },
  {
   "cell_type": "markdown",
   "metadata": {},
   "source": [
    "**Exploitation is the right thing to do to maximize the expected reward on the onestep, but Exploration may produce the greater total reward in the long run.** "
   ]
  },
  {
   "cell_type": "markdown",
   "metadata": {},
   "source": [
    "🎯 The Problem:\n",
    "\n",
    "You just moved to a new city and want to find the best restaurant.\n",
    "+ You have three options:\n",
    "1.\tRestaurant A (you’ve been there once and had a great experience, so you believeit’s the best).\n",
    "2.\tRestaurant B (you’ve heard it’s good but haven’t tried it).\n",
    "3.\tRestaurant C (you know little about it).\n",
    "\n",
    "⸻\n",
    "\n",
    "✅ Exploitation (Greedy Action):\n",
    "\n",
    "If you always go to Restaurant A, you are exploiting your current knowledge. This maximizes your immediate reward (a good meal), but ignores potential better options (B or C).\n",
    "\n",
    "⸻\n",
    "\n",
    "🔍 Exploration (Nongreedy Action):\n",
    "\n",
    "If you try Restaurant B or C, you are exploring. You may get a worse meal in the short term, but gather new information. If one of them is actually better than A, you can exploit it repeatedly in the future, leading to higher total rewards in the long run.\n",
    "\n",
    "⸻\n",
    "\n",
    "⚖️ The Conflict:\n",
    "+ If you always exploit, you miss better opportunities.\n",
    "+ If you only explore, you waste time on bad choices.\n",
    "\n",
    "⸻\n",
    "\n",
    "🎲 The Strategy (ε-greedy):\n",
    "+ With 90% probability, go to the best-known restaurant (exploitation).\n",
    "+ With 10% probability, try a random one (exploration).\n",
    "\n",
    "⸻\n",
    "\n",
    "🧠 In Reinforcement Learning Terms:\n",
    "+ Q(a): The estimated value of action a (like the quality of each restaurant).\n",
    "+ $\\epsilon$-greedy strategy: A balance between exploration and exploitation.\n",
    "+ Goal: Refine your action-value estimates over time and maximize long-term rewards."
   ]
  },
  {
   "cell_type": "markdown",
   "metadata": {},
   "source": [
    "### exploitation-exploration dilemma\n",
    "\n",
    "**Exploitation is the right thing to do to maximize the expected reward on the onestep, but Exploration may produce the greater total reward in the long run.** \n",
    "\n",
    "Because it is not possible both to explore and to exploit with any single action selection, one often refers to the “conflict” between exploration and exploitation.\n",
    "\n",
    "Greedy action selection always exploits current knowledge tomaximize immediate reward;\n",
    "it spends no time at all sampling apparently inferior actions to see if they might really be better. "
   ]
  },
  {
   "cell_type": "markdown",
   "metadata": {},
   "source": [
    "Why in $\\epsilon$-greedy methods, the probability of selecting the optimal action converges to greater than $1 - \\epsilon$ ?"
   ]
  },
  {
   "cell_type": "markdown",
   "metadata": {},
   "source": [
    "1. Understanding $\\epsilon$-Greedy Policy\n",
    "\n",
    "In ε-greedy action selection:\n",
    " + With probability $\\epsilon$, the agent explores (chooses a random action).\n",
    " + With probability $1 - \\epsilon$, the agent exploits (chooses the best-known action).\n",
    "\n",
    "Let’s define:\n",
    " + $a^*$ as the true optimal action.\n",
    " + $\\hat{a}^*$ as the agent’s current best estimate of the optimal action (which improves over time).\n",
    "\n",
    "---\n",
    "\n",
    "2. Behavior as Learning Progresses\n",
    "\n",
    "As the agent gathers more experience:\n",
    " 1. Initially, the agent doesn’t know $a^*$, so it explores and refines $Q(s,a)$.\n",
    " 2. Over time, the Q-values converge, and the agent correctly estimates $Q(s, a^*)$.\n",
    " 3.\tEventually, $\\hat{a}^* \\to a^*$ (i.e., the agent’s best action matches the optimal action).\n",
    "\n",
    "---\n",
    "\n",
    "3. Convergence to $Probability > 1 - \\epsilon$\n",
    "\n",
    "Once the agent has correctly learned the optimal action:\n",
    " + With probability $1 - \\epsilon$, it chooses the optimal action (exploitation).\n",
    " + With probability $\\epsilon$, it chooses randomly among all actions.\n",
    "\n",
    "If there are n actions:\n",
    " + The chance of picking $a^*$ during exploration is $\\frac{1}{n}$.\n",
    " + So, the probability of picking the optimal action overall is:\n",
    "\n",
    "$$\n",
    "P(\\text{selecting } a^*) = (1 - \\epsilon) + \\epsilon \\cdot \\frac{1}{n}\n",
    "$$\n",
    "Since $\\frac{1}{n}$ is always positive, we get:\n",
    "$$\n",
    "P(\\text{selecting } a^*) > 1 - \\epsilon\n",
    "$$\n",
    "\n",
    "---\n",
    "\n",
    "4. Why This Matters\n",
    "\n",
    "This means that as the agent learns better Q-values, the probability of choosing the optimal action remains high (> $1 - \\epsilon$).\n",
    "\n",
    "Even with exploration, the agent still frequently picks the optimal action. This ensures that:\n",
    " + The agent exploits most of the time.\n",
    " + It still explores enough to refine Q-values.\n",
    "\n",
    " ---\n",
    "\n",
    "Example (5 Actions, $\\epsilon = 0.1$)\n",
    " + With probability 0.9, the agent picks the best-known action.\n",
    " + With probability 0.1, it randomly picks one of 5 actions ($\\frac{1}{5} = 0.2$).\n",
    " + Total probability of picking the optimal action:\n",
    "$$\n",
    "P(a^*) = 0.9 + 0.1 \\times 0.2 = 0.92\n",
    "$$\n",
    "So, the probability is greater than 1 - 0.1 = 0.9.\n",
    "\n",
    "---\n",
    "\n",
    "Conclusion\n",
    "\n",
    "The key reason $P(a^*) > 1 - \\epsilon$ is because, even when exploring, there’s always a small chance of choosing the optimal action. Over time, as Q-values converge, the agent exploits more effectively, keeping the probability of selecting the optimal action high.\n",
    "\n"
   ]
  },
  {
   "cell_type": "markdown",
   "metadata": {},
   "source": [
    "Exercise 2.1 In $\\epsilon$-greedy action selection, for the case of two actions and $\\epsilon=0.5$, what is the probability that the greedy action is selected?"
   ]
  },
  {
   "cell_type": "markdown",
   "metadata": {},
   "source": [
    "$\\because$ The greedy action can be selected in two ways.\n",
    "1. With probability $1 - \\epsilon$ the agent exploit\n",
    "2. With probability $\\epsilon$ the agent explore\n",
    "\n",
    "Plus, the size of action space is $2$\n",
    "\n",
    "$ \\therefore P(\\hat{a}^*) = (1 - \\epsilon) + \\frac{1}{2} \\times \\epsilon = 0.75 $ "
   ]
  },
  {
   "cell_type": "markdown",
   "metadata": {},
   "source": [
    "### 10-armed testbed"
   ]
  },
  {
   "cell_type": "markdown",
   "metadata": {},
   "source": [
    "Figure-2.1 An example bandit problem from the 10-armed testbed. The true value $q^*(a)$ of each of the ten actions was selected according to a normal distribution with mean zero and unitvariance, and then the actual rewards were selected according to a mean $q^*(a)$, unit-variancenormal distribution, as suggested by these gray distributions.\n"
   ]
  },
  {
   "cell_type": "code",
   "execution_count": 5,
   "metadata": {},
   "outputs": [
    {
     "data": {
      "image/png": "[encoded data removed]",
      "text/plain": [
       "<Figure size 640x480 with 1 Axes>"
      ]
     },
     "metadata": {},
     "output_type": "display_data"
    }
   ],
   "source": [
    "import numpy as np\n",
    "from matplotlib import pyplot as plt\n",
    "\n",
    "n = 10\n",
    "\n",
    "true_action_val = np.random.rand(n) \n",
    "# sample from an normal distribution\n",
    "actual_reward = np.random.randn(2000 // n, n) + true_action_val \n",
    "# sample from q*(a)-1 gaussian distribution\n",
    "\n",
    "plt.violinplot(dataset=actual_reward)\n",
    "\n",
    "plt.xlabel(\"Action\")\n",
    "plt.ylabel(\"Reward distribution\")\n",
    "plt.show()"
   ]
  },
  {
   "cell_type": "code",
   "execution_count": null,
   "metadata": {},
   "outputs": [],
   "source": [
    "from utils.bandit import Bandit, simulate\n",
    "\n"
   ]
  }
 ],
 "metadata": {
  "kernelspec": {
   "display_name": "rl",
   "language": "python",
   "name": "python3"
  },
  "language_info": {
   "codemirror_mode": {
    "name": "ipython",
    "version": 3
   },
   "file_extension": ".py",
   "mimetype": "text/x-python",
   "name": "python",
   "nbconvert_exporter": "python",
   "pygments_lexer": "ipython3",
   "version": "3.12.9"
  }
 },
 "nbformat": 4,
 "nbformat_minor": 2
}
